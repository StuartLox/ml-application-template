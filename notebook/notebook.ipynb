{
 "cells": [
  {
   "cell_type": "markdown",
   "metadata": {},
   "source": [
    "## Attach Docker File"
   ]
  },
  {
   "cell_type": "code",
   "execution_count": 1,
   "metadata": {},
   "outputs": [
    {
     "name": "stdout",
     "output_type": "stream",
     "text": [
      "# Build an image that can do training and inference in SageMaker\n",
      "# This is a Python 2 image that uses the nginx, gunicorn, flask stack\n",
      "# for serving inferences in a stable way.\n",
      "\n",
      "FROM ubuntu:16.04\n",
      "\n",
      "MAINTAINER Stuart Loxton <stuart.loxton@xinja.com.au>\n",
      "\n",
      "RUN apt-get -y update && apt-get install -y --no-install-recommends \\\n",
      "         wget \\\n",
      "         python3 \\\n",
      "         nginx \\\n",
      "         ca-certificates \\\n",
      "    && rm -rf /var/lib/apt/lists/*\n",
      "\n",
      "# Install all of the packages\n",
      "RUN wget https://bootstrap.pypa.io/get-pip.py && python3 get-pip.py\n",
      "RUN pip3 install numpy\n",
      "RUN pip3 install scipy\n",
      "RUN pip3 install scikit-learn\n",
      "RUN pip3 install pandas\n",
      "RUN pip3 install flask\n",
      "RUN pip3 install gevent\n",
      "RUN pip3 install gunicorn\n",
      "RUN pip3 install tensorflow\n",
      "RUN pip3 install keras\n",
      "RUN (cd /usr/local/lib/python3.6/dist-packages/scipy/.libs; rm *; ln ../../numpy/.libs/* .)\n",
      "RUN rm -rf /root/.cache\n",
      "\n",
      "# Env Variables\n",
      "ENV PYTHONUNBUFFERED=TRUE\n",
      "ENV PYTHONDONTWRITEBYTECODE=TRUE\n",
      "ENV PATH=\"/opt/program:${PATH}\"\n",
      "\n",
      "# Set up the program in the image\n",
      "COPY decision_trees /opt/program\n",
      "WORKDIR /opt/program/bin/sh: asp: command not found\n"
     ]
    }
   ],
   "source": [
    "!cat container/Dockerfile\n",
    "!asp personal_account"
   ]
  },
  {
   "cell_type": "code",
   "execution_count": 7,
   "metadata": {},
   "outputs": [
    {
     "name": "stdout",
     "output_type": "stream",
     "text": [
      "{\n",
      "    \"repositories\": [\n",
      "        {\n",
      "            \"repositoryArn\": \"arn:aws:ecr:ap-southeast-2:224041885527:repository/ann-churn\",\n",
      "            \"registryId\": \"224041885527\",\n",
      "            \"repositoryName\": \"ann-churn\",\n",
      "            \"repositoryUri\": \"224041885527.dkr.ecr.ap-southeast-2.amazonaws.com/ann-churn\",\n",
      "            \"createdAt\": 1550486736.0\n",
      "        }\n",
      "    ]\n",
      "}\n",
      "Sending build context to Docker daemon   16.9kB\r",
      "\r\n",
      "Step 1/20 : FROM ubuntu:16.04\n",
      " ---> 7e87e2b3bf7a\n",
      "Step 2/20 : MAINTAINER Stuart Loxton <stuart.loxton@xinja.com.au>\n",
      " ---> Using cache\n",
      " ---> 90c8ebf6650c\n",
      "Step 3/20 : RUN apt-get -y update && apt-get install -y --no-install-recommends          wget          python3          nginx          ca-certificates     && rm -rf /var/lib/apt/lists/*\n",
      " ---> Using cache\n",
      " ---> 6c34af7bb62b\n",
      "Step 4/20 : RUN wget https://bootstrap.pypa.io/get-pip.py && python3 get-pip.py\n",
      " ---> Using cache\n",
      " ---> fc80ce9af1a1\n",
      "Step 5/20 : RUN pip3 install numpy\n",
      " ---> Using cache\n",
      " ---> 09fb7ab0a7a5\n",
      "Step 6/20 : RUN pip3 install scipy\n",
      " ---> Using cache\n",
      " ---> 7e10fcd3f4a2\n",
      "Step 7/20 : RUN pip3 install scikit-learn\n",
      " ---> Using cache\n",
      " ---> 250712be10de\n",
      "Step 8/20 : RUN pip3 install pandas\n",
      " ---> Using cache\n",
      " ---> df8854c2e9e0\n",
      "Step 9/20 : RUN pip3 install flask\n",
      " ---> Using cache\n",
      " ---> e2ec774267ac\n",
      "Step 10/20 : RUN pip3 install gevent\n",
      " ---> Using cache\n",
      " ---> df14cb314508\n",
      "Step 11/20 : RUN pip3 install gunicorn\n",
      " ---> Using cache\n",
      " ---> 7e8d89412acc\n",
      "Step 12/20 : RUN pip3 install tensorflow\n",
      " ---> Using cache\n",
      " ---> 09cdcda86a95\n",
      "Step 13/20 : RUN pip3 install keras\n",
      " ---> Using cache\n",
      " ---> 0d1c0b1c5b36\n",
      "Step 14/20 : RUN (cd /usr/local/lib/python3.6/dist-packages/scipy/.libs; rm *; ln ../../numpy/.libs/* .)\n",
      " ---> Running in 451fbb486e26\n",
      "\u001b[91m/bin/sh: 1: cd: can't cd to /usr/local/lib/python3.6/dist-packages/scipy/.libs\n",
      "\u001b[0m\u001b[91mrm: cannot remove 'bin': Is a directory\n",
      "rm: cannot remove 'boot': Is a directory\n",
      "rm: cannot remove 'dev': Is a directory\n",
      "rm: cannot remove 'etc': Is a directory\n",
      "rm: cannot remove 'home': Is a directory\n",
      "rm: cannot remove 'lib': Is a directory\n",
      "rm: cannot remove 'lib64': Is a directory\n",
      "rm: cannot remove 'media': Is a directory\n",
      "rm: cannot remove 'mnt': Is a directory\n",
      "rm: cannot remove 'opt': Is a directory\n",
      "rm: cannot remove 'proc': Is a directory\n",
      "rm: cannot remove 'root': Is a directory\n",
      "rm: cannot remove 'run': Is a directory\n",
      "rm: cannot remove 'sbin': Is a directory\n",
      "rm: cannot remove 'srv': Is a directory\n",
      "rm: cannot remove 'sys': Is a directory\n",
      "rm: cannot remove 'tmp': Is a directory\n",
      "rm: cannot remove 'usr': Is a directory\n",
      "rm: cannot remove 'var': Is a directory\n",
      "ln: failed to access '../../numpy/.libs/*': No such file or directory\n",
      "\u001b[0mThe push refers to repository [224041885527.dkr.ecr.ap-southeast-2.amazonaws.com/ann-churn]\n"
     ]
    },
    {
     "name": "stderr",
     "output_type": "stream",
     "text": [
      "The command '/bin/sh -c (cd /usr/local/lib/python3.6/dist-packages/scipy/.libs; rm *; ln ../../numpy/.libs/* .)' returned a non-zero code: 1\n",
      "Error response from daemon: No such image: ann-churn:latest\n",
      "An image does not exist locally with the tag: 224041885527.dkr.ecr.ap-southeast-2.amazonaws.com/ann-churn\n"
     ]
    },
    {
     "ename": "CalledProcessError",
     "evalue": "Command 'b'\\n# The name of our algorithm\\nalgorithm_name=ann-churn\\n\\ncd container\\n\\nchmod +x ann/train\\nchmod +x ann/serve\\n\\naccount=$(aws sts get-caller-identity --query Account --output text)\\n# Get the region defined in the current configuration (default to us-west-2 if none defined)\\nregion=$(aws configure get region)\\nregion=${region:-ap-southeast-2}\\n\\nfullname=\"${account}.dkr.ecr.${region}.amazonaws.com/${algorithm_name}:latest\"\\n\\n# If the repository doesn\\'t exist in ECR, create it.\\naws ecr describe-repositories --repository-names \"${algorithm_name}\" \\n\\nif [ $? -ne 0 ]\\nthen\\n    aws ecr create-repository --repository-name \"${algorithm_name}\" > /dev/null\\nfi\\n\\n# Get the login command from ECR and execute it directly\\n# $(aws ecr get-login --region ${region} --no-include-email)\\n\\n# Build the docker image locally with the image name and then push it to ECR\\n# with the full name.\\n\\ndocker build  -t ${algorithm_name} .\\ndocker tag ${algorithm_name} ${fullname}\\n\\ndocker push ${fullname}\\n'' returned non-zero exit status 1.",
     "output_type": "error",
     "traceback": [
      "\u001b[0;31m---------------------------------------------------------------------------\u001b[0m",
      "\u001b[0;31mCalledProcessError\u001b[0m                        Traceback (most recent call last)",
      "\u001b[0;32m<ipython-input-7-fae0f57ee8b8>\u001b[0m in \u001b[0;36m<module>\u001b[0;34m\u001b[0m\n\u001b[0;32m----> 1\u001b[0;31m \u001b[0mget_ipython\u001b[0m\u001b[0;34m(\u001b[0m\u001b[0;34m)\u001b[0m\u001b[0;34m.\u001b[0m\u001b[0mrun_cell_magic\u001b[0m\u001b[0;34m(\u001b[0m\u001b[0;34m'sh'\u001b[0m\u001b[0;34m,\u001b[0m \u001b[0;34m''\u001b[0m\u001b[0;34m,\u001b[0m \u001b[0;34m'\\n# The name of our algorithm\\nalgorithm_name=ann-churn\\n\\ncd container\\n\\nchmod +x ann/train\\nchmod +x ann/serve\\n\\naccount=$(aws sts get-caller-identity --query Account --output text)\\n# Get the region defined in the current configuration (default to us-west-2 if none defined)\\nregion=$(aws configure get region)\\nregion=${region:-ap-southeast-2}\\n\\nfullname=\"${account}.dkr.ecr.${region}.amazonaws.com/${algorithm_name}:latest\"\\n\\n# If the repository doesn\\'t exist in ECR, create it.\\naws ecr describe-repositories --repository-names \"${algorithm_name}\" \\n\\nif [ $? -ne 0 ]\\nthen\\n    aws ecr create-repository --repository-name \"${algorithm_name}\" > /dev/null\\nfi\\n\\n# Get the login command from ECR and execute it directly\\n# $(aws ecr get-login --region ${region} --no-include-email)\\n\\n# Build the docker image locally with the image name and then push it to ECR\\n# with the full name.\\n\\ndocker build  -t ${algorithm_name} .\\ndocker tag ${algorithm_name} ${fullname}\\n\\ndocker push ${fullname}\\n'\u001b[0m\u001b[0;34m)\u001b[0m\u001b[0;34m\u001b[0m\u001b[0;34m\u001b[0m\u001b[0m\n\u001b[0m",
      "\u001b[0;32m/Library/Frameworks/Python.framework/Versions/3.6/lib/python3.6/site-packages/IPython/core/interactiveshell.py\u001b[0m in \u001b[0;36mrun_cell_magic\u001b[0;34m(self, magic_name, line, cell)\u001b[0m\n\u001b[1;32m   2321\u001b[0m             \u001b[0mmagic_arg_s\u001b[0m \u001b[0;34m=\u001b[0m \u001b[0mself\u001b[0m\u001b[0;34m.\u001b[0m\u001b[0mvar_expand\u001b[0m\u001b[0;34m(\u001b[0m\u001b[0mline\u001b[0m\u001b[0;34m,\u001b[0m \u001b[0mstack_depth\u001b[0m\u001b[0;34m)\u001b[0m\u001b[0;34m\u001b[0m\u001b[0;34m\u001b[0m\u001b[0m\n\u001b[1;32m   2322\u001b[0m             \u001b[0;32mwith\u001b[0m \u001b[0mself\u001b[0m\u001b[0;34m.\u001b[0m\u001b[0mbuiltin_trap\u001b[0m\u001b[0;34m:\u001b[0m\u001b[0;34m\u001b[0m\u001b[0;34m\u001b[0m\u001b[0m\n\u001b[0;32m-> 2323\u001b[0;31m                 \u001b[0mresult\u001b[0m \u001b[0;34m=\u001b[0m \u001b[0mfn\u001b[0m\u001b[0;34m(\u001b[0m\u001b[0mmagic_arg_s\u001b[0m\u001b[0;34m,\u001b[0m \u001b[0mcell\u001b[0m\u001b[0;34m)\u001b[0m\u001b[0;34m\u001b[0m\u001b[0;34m\u001b[0m\u001b[0m\n\u001b[0m\u001b[1;32m   2324\u001b[0m             \u001b[0;32mreturn\u001b[0m \u001b[0mresult\u001b[0m\u001b[0;34m\u001b[0m\u001b[0;34m\u001b[0m\u001b[0m\n\u001b[1;32m   2325\u001b[0m \u001b[0;34m\u001b[0m\u001b[0m\n",
      "\u001b[0;32m/Library/Frameworks/Python.framework/Versions/3.6/lib/python3.6/site-packages/IPython/core/magics/script.py\u001b[0m in \u001b[0;36mnamed_script_magic\u001b[0;34m(line, cell)\u001b[0m\n\u001b[1;32m    140\u001b[0m             \u001b[0;32melse\u001b[0m\u001b[0;34m:\u001b[0m\u001b[0;34m\u001b[0m\u001b[0;34m\u001b[0m\u001b[0m\n\u001b[1;32m    141\u001b[0m                 \u001b[0mline\u001b[0m \u001b[0;34m=\u001b[0m \u001b[0mscript\u001b[0m\u001b[0;34m\u001b[0m\u001b[0;34m\u001b[0m\u001b[0m\n\u001b[0;32m--> 142\u001b[0;31m             \u001b[0;32mreturn\u001b[0m \u001b[0mself\u001b[0m\u001b[0;34m.\u001b[0m\u001b[0mshebang\u001b[0m\u001b[0;34m(\u001b[0m\u001b[0mline\u001b[0m\u001b[0;34m,\u001b[0m \u001b[0mcell\u001b[0m\u001b[0;34m)\u001b[0m\u001b[0;34m\u001b[0m\u001b[0;34m\u001b[0m\u001b[0m\n\u001b[0m\u001b[1;32m    143\u001b[0m \u001b[0;34m\u001b[0m\u001b[0m\n\u001b[1;32m    144\u001b[0m         \u001b[0;31m# write a basic docstring:\u001b[0m\u001b[0;34m\u001b[0m\u001b[0;34m\u001b[0m\u001b[0;34m\u001b[0m\u001b[0m\n",
      "\u001b[0;32m<decorator-gen-109>\u001b[0m in \u001b[0;36mshebang\u001b[0;34m(self, line, cell)\u001b[0m\n",
      "\u001b[0;32m/Library/Frameworks/Python.framework/Versions/3.6/lib/python3.6/site-packages/IPython/core/magic.py\u001b[0m in \u001b[0;36m<lambda>\u001b[0;34m(f, *a, **k)\u001b[0m\n\u001b[1;32m    185\u001b[0m     \u001b[0;31m# but it's overkill for just that one bit of state.\u001b[0m\u001b[0;34m\u001b[0m\u001b[0;34m\u001b[0m\u001b[0;34m\u001b[0m\u001b[0m\n\u001b[1;32m    186\u001b[0m     \u001b[0;32mdef\u001b[0m \u001b[0mmagic_deco\u001b[0m\u001b[0;34m(\u001b[0m\u001b[0marg\u001b[0m\u001b[0;34m)\u001b[0m\u001b[0;34m:\u001b[0m\u001b[0;34m\u001b[0m\u001b[0;34m\u001b[0m\u001b[0m\n\u001b[0;32m--> 187\u001b[0;31m         \u001b[0mcall\u001b[0m \u001b[0;34m=\u001b[0m \u001b[0;32mlambda\u001b[0m \u001b[0mf\u001b[0m\u001b[0;34m,\u001b[0m \u001b[0;34m*\u001b[0m\u001b[0ma\u001b[0m\u001b[0;34m,\u001b[0m \u001b[0;34m**\u001b[0m\u001b[0mk\u001b[0m\u001b[0;34m:\u001b[0m \u001b[0mf\u001b[0m\u001b[0;34m(\u001b[0m\u001b[0;34m*\u001b[0m\u001b[0ma\u001b[0m\u001b[0;34m,\u001b[0m \u001b[0;34m**\u001b[0m\u001b[0mk\u001b[0m\u001b[0;34m)\u001b[0m\u001b[0;34m\u001b[0m\u001b[0;34m\u001b[0m\u001b[0m\n\u001b[0m\u001b[1;32m    188\u001b[0m \u001b[0;34m\u001b[0m\u001b[0m\n\u001b[1;32m    189\u001b[0m         \u001b[0;32mif\u001b[0m \u001b[0mcallable\u001b[0m\u001b[0;34m(\u001b[0m\u001b[0marg\u001b[0m\u001b[0;34m)\u001b[0m\u001b[0;34m:\u001b[0m\u001b[0;34m\u001b[0m\u001b[0;34m\u001b[0m\u001b[0m\n",
      "\u001b[0;32m/Library/Frameworks/Python.framework/Versions/3.6/lib/python3.6/site-packages/IPython/core/magics/script.py\u001b[0m in \u001b[0;36mshebang\u001b[0;34m(self, line, cell)\u001b[0m\n\u001b[1;32m    243\u001b[0m             \u001b[0msys\u001b[0m\u001b[0;34m.\u001b[0m\u001b[0mstderr\u001b[0m\u001b[0;34m.\u001b[0m\u001b[0mflush\u001b[0m\u001b[0;34m(\u001b[0m\u001b[0;34m)\u001b[0m\u001b[0;34m\u001b[0m\u001b[0;34m\u001b[0m\u001b[0m\n\u001b[1;32m    244\u001b[0m         \u001b[0;32mif\u001b[0m \u001b[0margs\u001b[0m\u001b[0;34m.\u001b[0m\u001b[0mraise_error\u001b[0m \u001b[0;32mand\u001b[0m \u001b[0mp\u001b[0m\u001b[0;34m.\u001b[0m\u001b[0mreturncode\u001b[0m\u001b[0;34m!=\u001b[0m\u001b[0;36m0\u001b[0m\u001b[0;34m:\u001b[0m\u001b[0;34m\u001b[0m\u001b[0;34m\u001b[0m\u001b[0m\n\u001b[0;32m--> 245\u001b[0;31m             \u001b[0;32mraise\u001b[0m \u001b[0mCalledProcessError\u001b[0m\u001b[0;34m(\u001b[0m\u001b[0mp\u001b[0m\u001b[0;34m.\u001b[0m\u001b[0mreturncode\u001b[0m\u001b[0;34m,\u001b[0m \u001b[0mcell\u001b[0m\u001b[0;34m,\u001b[0m \u001b[0moutput\u001b[0m\u001b[0;34m=\u001b[0m\u001b[0mout\u001b[0m\u001b[0;34m,\u001b[0m \u001b[0mstderr\u001b[0m\u001b[0;34m=\u001b[0m\u001b[0merr\u001b[0m\u001b[0;34m)\u001b[0m\u001b[0;34m\u001b[0m\u001b[0;34m\u001b[0m\u001b[0m\n\u001b[0m\u001b[1;32m    246\u001b[0m \u001b[0;34m\u001b[0m\u001b[0m\n\u001b[1;32m    247\u001b[0m     \u001b[0;32mdef\u001b[0m \u001b[0m_run_script\u001b[0m\u001b[0;34m(\u001b[0m\u001b[0mself\u001b[0m\u001b[0;34m,\u001b[0m \u001b[0mp\u001b[0m\u001b[0;34m,\u001b[0m \u001b[0mcell\u001b[0m\u001b[0;34m,\u001b[0m \u001b[0mto_close\u001b[0m\u001b[0;34m)\u001b[0m\u001b[0;34m:\u001b[0m\u001b[0;34m\u001b[0m\u001b[0;34m\u001b[0m\u001b[0m\n",
      "\u001b[0;31mCalledProcessError\u001b[0m: Command 'b'\\n# The name of our algorithm\\nalgorithm_name=ann-churn\\n\\ncd container\\n\\nchmod +x ann/train\\nchmod +x ann/serve\\n\\naccount=$(aws sts get-caller-identity --query Account --output text)\\n# Get the region defined in the current configuration (default to us-west-2 if none defined)\\nregion=$(aws configure get region)\\nregion=${region:-ap-southeast-2}\\n\\nfullname=\"${account}.dkr.ecr.${region}.amazonaws.com/${algorithm_name}:latest\"\\n\\n# If the repository doesn\\'t exist in ECR, create it.\\naws ecr describe-repositories --repository-names \"${algorithm_name}\" \\n\\nif [ $? -ne 0 ]\\nthen\\n    aws ecr create-repository --repository-name \"${algorithm_name}\" > /dev/null\\nfi\\n\\n# Get the login command from ECR and execute it directly\\n# $(aws ecr get-login --region ${region} --no-include-email)\\n\\n# Build the docker image locally with the image name and then push it to ECR\\n# with the full name.\\n\\ndocker build  -t ${algorithm_name} .\\ndocker tag ${algorithm_name} ${fullname}\\n\\ndocker push ${fullname}\\n'' returned non-zero exit status 1."
     ]
    }
   ],
   "source": [
    "%%sh\n",
    "\n",
    "# The name of our algorithm\n",
    "algorithm_name=ann-churn\n",
    "\n",
    "cd container\n",
    "\n",
    "chmod +x ann/train\n",
    "chmod +x ann/serve\n",
    "\n",
    "account=$(aws sts get-caller-identity --query Account --output text)\n",
    "# Get the region defined in the current configuration (default to us-west-2 if none defined)\n",
    "region=$(aws configure get region)\n",
    "region=${region:-ap-southeast-2}\n",
    "\n",
    "fullname=\"${account}.dkr.ecr.${region}.amazonaws.com/${algorithm_name}:latest\"\n",
    "\n",
    "# If the repository doesn't exist in ECR, create it.\n",
    "aws ecr describe-repositories --repository-names \"${algorithm_name}\" \n",
    "\n",
    "if [ $? -ne 0 ]\n",
    "then\n",
    "    aws ecr create-repository --repository-name \"${algorithm_name}\" > /dev/null\n",
    "fi\n",
    "\n",
    "# Get the login command from ECR and execute it directly\n",
    "# $(aws ecr get-login --region ${region} --no-include-email)\n",
    "\n",
    "# Build the docker image locally with the image name and then push it to ECR\n",
    "# with the full name.\n",
    "\n",
    "docker build  -t ${algorithm_name} .\n",
    "docker tag ${algorithm_name} ${fullname}\n",
    "\n",
    "docker push ${fullname}"
   ]
  },
  {
   "cell_type": "code",
   "execution_count": null,
   "metadata": {},
   "outputs": [],
   "source": [
    "import sagemaker\n",
    "from sagemaker import get_execution_role\n",
    "\n",
    "sagemaker_session = sagemaker.Session()\n",
    "\n",
    "# Get a SageMaker-compatible role used by this Notebook Instance.\n",
    "role = get_execution_role()"
   ]
  },
  {
   "cell_type": "code",
   "execution_count": null,
   "metadata": {},
   "outputs": [],
   "source": [
    "# sagemaker_session.upload_data('data.csv', bucket='ml-sagemaker-bucket',\n",
    "#                               key_prefix='train')"
   ]
  },
  {
   "cell_type": "code",
   "execution_count": null,
   "metadata": {},
   "outputs": [],
   "source": []
  }
 ],
 "metadata": {
  "kernelspec": {
   "display_name": "Python 3",
   "language": "python",
   "name": "python3"
  },
  "language_info": {
   "codemirror_mode": {
    "name": "ipython",
    "version": 3
   },
   "file_extension": ".py",
   "mimetype": "text/x-python",
   "name": "python",
   "nbconvert_exporter": "python",
   "pygments_lexer": "ipython3",
   "version": "3.6.7"
  }
 },
 "nbformat": 4,
 "nbformat_minor": 2
}
